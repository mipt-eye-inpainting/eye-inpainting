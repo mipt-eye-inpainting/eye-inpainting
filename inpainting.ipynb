{
 "cells": [
  {
   "cell_type": "code",
   "execution_count": 28,
   "metadata": {
    "collapsed": false
   },
   "outputs": [
    {
     "name": "stdout",
     "output_type": "stream",
     "text": [
      "The autoreload extension is already loaded. To reload it, use:\n",
      "  %reload_ext autoreload\n"
     ]
    }
   ],
   "source": [
    "%load_ext autoreload\n",
    "%autoreload 2\n",
    "from os.path import join, split, basename\n",
    "\n",
    "from src.utils.io import search_for_extensions\n",
    "from src.utils.io import read_image, draw_rectangle, make_input_image\n",
    "from src.utils.paths import PATH_DATA\n",
    "from src.utils.visualization import show_image\n",
    "from tqdm import tqdm"
   ]
  },
  {
   "cell_type": "code",
   "execution_count": 21,
   "metadata": {
    "collapsed": false
   },
   "outputs": [
    {
     "name": "stdout",
     "output_type": "stream",
     "text": [
      "epoch: 1\n"
     ]
    },
    {
     "name": "stderr",
     "output_type": "stream",
     "text": [
      "\n",
      "  0%|                                                                                         | 0/6090 [00:00<?, ?it/s]\n",
      "  0%|                                                                               | 1/6090 [00:00<1:03:17,  1.60it/s]\n",
      "  0%|                                                                                 | 2/6090 [00:00<47:27,  2.14it/s]\n",
      "  0%|                                                                                 | 3/6090 [00:01<42:16,  2.40it/s]\n",
      "  0%|                                                                                 | 4/6090 [00:01<39:39,  2.56it/s]\n",
      "  0%|                                                                                 | 5/6090 [00:01<38:06,  2.66it/s]\n",
      "  0%|                                                                                 | 6/6090 [00:02<36:56,  2.74it/s]\n",
      "  0%|                                                                                 | 7/6090 [00:02<36:06,  2.81it/s]\n",
      "  0%|                                                                                 | 8/6090 [00:02<35:25,  2.86it/s]\n",
      "  0%|                                                                                 | 9/6090 [00:03<34:56,  2.90it/s]\n",
      "  0%|▏                                                                               | 10/6090 [00:03<34:33,  2.93it/s]\n",
      "  0%|▏                                                                               | 11/6090 [00:03<34:12,  2.96it/s]\n",
      "  0%|▏                                                                               | 12/6090 [00:04<33:56,  2.98it/s]\n",
      "  0%|▏                                                                               | 13/6090 [00:04<33:45,  3.00it/s]\n",
      "  0%|▏                                                                               | 14/6090 [00:04<33:32,  3.02it/s]\n",
      "  0%|▏                                                                               | 15/6090 [00:04<33:21,  3.04it/s]\n",
      "  0%|▏                                                                               | 16/6090 [00:05<33:12,  3.05it/s]\n",
      "  0%|▏                                                                               | 17/6090 [00:05<33:06,  3.06it/s]\n",
      "  0%|▏                                                                               | 18/6090 [00:05<32:58,  3.07it/s]\n",
      "  0%|▏                                                                               | 19/6090 [00:06<32:53,  3.08it/s]\n",
      "  0%|▎                                                                               | 20/6090 [00:06<32:47,  3.09it/s]\n",
      "  0%|▎                                                                               | 21/6090 [00:06<32:42,  3.09it/s]\n",
      "  0%|▎                                                                               | 22/6090 [00:07<32:37,  3.10it/s]\n",
      " 99%|█████████████████████████████████████████████████████████████████████████████▍| 6044/6090 [36:03<00:16,  2.79it/s]\n"
     ]
    },
    {
     "name": "stdout",
     "output_type": "stream",
     "text": [
      "Completion loss: 13796086.71850586\n",
      "epoch: 2\n"
     ]
    },
    {
     "name": "stderr",
     "output_type": "stream",
     "text": [
      " 99%|█████████████████████████████████████████████████████████████████████████████▍| 6044/6090 [30:39<00:13,  3.29it/s]\n"
     ]
    },
    {
     "name": "stdout",
     "output_type": "stream",
     "text": [
      "Completion loss: 10465870.209411621\n",
      "epoch: 3\n"
     ]
    },
    {
     "name": "stderr",
     "output_type": "stream",
     "text": [
      " 99%|█████████████████████████████████████████████████████████████████████████████▍| 6044/6090 [30:45<00:14,  3.28it/s]\n"
     ]
    },
    {
     "name": "stdout",
     "output_type": "stream",
     "text": [
      "Completion loss: 9611613.313964844\n",
      "epoch: 4\n"
     ]
    },
    {
     "name": "stderr",
     "output_type": "stream",
     "text": [
      " 99%|█████████████████████████████████████████████████████████████████████████████▍| 6044/6090 [30:40<00:14,  3.28it/s]\n"
     ]
    },
    {
     "name": "stdout",
     "output_type": "stream",
     "text": [
      "Completion loss: 9027292.81237793\n",
      "epoch: 5\n"
     ]
    },
    {
     "name": "stderr",
     "output_type": "stream",
     "text": [
      " 99%|█████████████████████████████████████████████████████████████████████████████▍| 6044/6090 [30:40<00:14,  3.28it/s]\n"
     ]
    },
    {
     "name": "stdout",
     "output_type": "stream",
     "text": [
      "Completion loss: 8574862.278930664\n",
      "epoch: 6\n"
     ]
    },
    {
     "name": "stderr",
     "output_type": "stream",
     "text": [
      " 99%|█████████████████████████████████████████████████████████████████████████████▍| 6044/6090 [30:45<00:14,  3.28it/s]\n"
     ]
    },
    {
     "name": "stdout",
     "output_type": "stream",
     "text": [
      "Completion loss: 8194096.405639648\n",
      "epoch: 7\n"
     ]
    },
    {
     "name": "stderr",
     "output_type": "stream",
     "text": [
      " 99%|█████████████████████████████████████████████████████████████████████████████▍| 6044/6090 [30:47<00:14,  3.27it/s]\n"
     ]
    },
    {
     "name": "stdout",
     "output_type": "stream",
     "text": [
      "Completion loss: 7868399.0529174805\n",
      "epoch: 8\n"
     ]
    },
    {
     "name": "stderr",
     "output_type": "stream",
     "text": [
      " 99%|█████████████████████████████████████████████████████████████████████████████▍| 6044/6090 [30:46<00:14,  3.27it/s]\n"
     ]
    },
    {
     "name": "stdout",
     "output_type": "stream",
     "text": [
      "Completion loss: 7589150.866271973\n",
      "epoch: 9\n"
     ]
    },
    {
     "name": "stderr",
     "output_type": "stream",
     "text": [
      " 99%|█████████████████████████████████████████████████████████████████████████████▍| 6044/6090 [30:46<00:14,  3.27it/s]\n"
     ]
    },
    {
     "name": "stdout",
     "output_type": "stream",
     "text": [
      "Completion loss: 7358211.462158203\n",
      "epoch: 10\n"
     ]
    },
    {
     "name": "stderr",
     "output_type": "stream",
     "text": [
      " 99%|█████████████████████████████████████████████████████████████████████████████▍| 6044/6090 [30:49<00:14,  3.27it/s]\n"
     ]
    },
    {
     "name": "stdout",
     "output_type": "stream",
     "text": [
      "Completion loss: 7150405.894226074\n",
      "epoch: 11\n"
     ]
    },
    {
     "name": "stderr",
     "output_type": "stream",
     "text": [
      " 99%|█████████████████████████████████████████████████████████████████████████████▍| 6044/6090 [41:35<00:18,  2.42it/s]\n"
     ]
    },
    {
     "name": "stdout",
     "output_type": "stream",
     "text": [
      "Completion loss: 6981109.679748535\n",
      "Discriminator loss: 0.5431735466450823\n",
      "epoch: 12\n"
     ]
    },
    {
     "name": "stderr",
     "output_type": "stream",
     "text": [
      " 99%|█████████████████████████████████████████████████████████████████████████████▍| 6044/6090 [41:41<00:19,  2.42it/s]\n"
     ]
    },
    {
     "name": "stdout",
     "output_type": "stream",
     "text": [
      "Completion loss: 6820066.0869140625\n",
      "Discriminator loss: 0.04194730200501687\n",
      "epoch: 13\n"
     ]
    },
    {
     "name": "stderr",
     "output_type": "stream",
     "text": [
      " 99%|█████████████████████████████████████████████████████████████████████████████▍| 6044/6090 [41:37<00:19,  2.42it/s]\n"
     ]
    },
    {
     "name": "stdout",
     "output_type": "stream",
     "text": [
      "Completion loss: 6676055.111633301\n",
      "Discriminator loss: 0.009056633500478608\n",
      "epoch: 14\n"
     ]
    },
    {
     "name": "stderr",
     "output_type": "stream",
     "text": [
      " 99%|█████████████████████████████████████████████████████████████████████████████▍| 6044/6090 [41:42<00:19,  2.42it/s]\n"
     ]
    },
    {
     "name": "stdout",
     "output_type": "stream",
     "text": [
      "Completion loss: 6540841.917480469\n",
      "Discriminator loss: 0.02294922128723444\n",
      "epoch: 15\n"
     ]
    },
    {
     "name": "stderr",
     "output_type": "stream",
     "text": [
      " 99%|█████████████████████████████████████████████████████████████████████████████▍| 6044/6090 [41:43<00:19,  2.41it/s]\n"
     ]
    },
    {
     "name": "stdout",
     "output_type": "stream",
     "text": [
      "Completion loss: 6423741.707580566\n",
      "Discriminator loss: 0.029733631659022756\n",
      "epoch: 16\n"
     ]
    },
    {
     "name": "stderr",
     "output_type": "stream",
     "text": [
      " 99%|█████████████████████████████████████████████████████████████████████████████▍| 6044/6090 [41:51<00:19,  2.41it/s]\n"
     ]
    },
    {
     "name": "stdout",
     "output_type": "stream",
     "text": [
      "Completion loss: 6310361.173706055\n",
      "Discriminator loss: 0.012580255475749792\n",
      "epoch: 17\n"
     ]
    },
    {
     "name": "stderr",
     "output_type": "stream",
     "text": [
      " 99%|█████████████████████████████████████████████████████████████████████████████▍| 6044/6090 [42:06<00:19,  2.39it/s]\n"
     ]
    },
    {
     "name": "stdout",
     "output_type": "stream",
     "text": [
      "Completion loss: 6205811.505187988\n",
      "Discriminator loss: 0.006233183201807093\n",
      "epoch: 18\n"
     ]
    },
    {
     "name": "stderr",
     "output_type": "stream",
     "text": [
      " 99%|█████████████████████████████████████████████████████████████████████████████▍| 6044/6090 [42:13<00:19,  2.39it/s]\n"
     ]
    },
    {
     "name": "stdout",
     "output_type": "stream",
     "text": [
      "Completion loss: 6115064.923400879\n",
      "Discriminator loss: 0.00647180270186628\n",
      "epoch: 19\n"
     ]
    },
    {
     "name": "stderr",
     "output_type": "stream",
     "text": [
      " 99%|█████████████████████████████████████████████████████████████████████████████▍| 6044/6090 [42:13<00:19,  2.39it/s]\n"
     ]
    },
    {
     "name": "stdout",
     "output_type": "stream",
     "text": [
      "Completion loss: 6021896.296081543\n",
      "Discriminator loss: 0.01685477415323223\n",
      "epoch: 20\n"
     ]
    },
    {
     "name": "stderr",
     "output_type": "stream",
     "text": [
      " 99%|█████████████████████████████████████████████████████████████████████████████▍| 6044/6090 [42:15<00:19,  2.38it/s]\n"
     ]
    },
    {
     "name": "stdout",
     "output_type": "stream",
     "text": [
      "Completion loss: 5937650.153564453\n",
      "Discriminator loss: 0.01130657184250529\n",
      "epoch: 21\n"
     ]
    },
    {
     "name": "stderr",
     "output_type": "stream",
     "text": [
      " 99%|█████████████████████████████████████████████████████████████████████████████▍| 6044/6090 [42:12<00:19,  2.39it/s]\n"
     ]
    },
    {
     "name": "stdout",
     "output_type": "stream",
     "text": [
      "Completion loss: 5860340.010009766\n",
      "Discriminator loss: 0.005696260195589229\n",
      "epoch: 22\n"
     ]
    },
    {
     "name": "stderr",
     "output_type": "stream",
     "text": [
      " 99%|█████████████████████████████████████████████████████████████████████████████▍| 6044/6090 [42:01<00:19,  2.40it/s]\n"
     ]
    },
    {
     "name": "stdout",
     "output_type": "stream",
     "text": [
      "Completion loss: 5787164.724975586\n",
      "Discriminator loss: 0.010955626256460729\n",
      "epoch: 23\n"
     ]
    },
    {
     "name": "stderr",
     "output_type": "stream",
     "text": [
      " 99%|█████████████████████████████████████████████████████████████████████████████▍| 6044/6090 [42:04<00:19,  2.39it/s]\n"
     ]
    },
    {
     "name": "stdout",
     "output_type": "stream",
     "text": [
      "Completion loss: 5716634.768249512\n",
      "Discriminator loss: 0.015593486749166828\n",
      "epoch: 24\n"
     ]
    },
    {
     "name": "stderr",
     "output_type": "stream",
     "text": [
      " 99%|█████████████████████████████████████████████████████████████████████████████▍| 6044/6090 [42:11<00:19,  2.39it/s]\n"
     ]
    },
    {
     "name": "stdout",
     "output_type": "stream",
     "text": [
      "Completion loss: 5649523.227874756\n",
      "Discriminator loss: 0.004397018197275656\n",
      "epoch: 25\n"
     ]
    },
    {
     "name": "stderr",
     "output_type": "stream",
     "text": [
      " 99%|█████████████████████████████████████████████████████████████████████████████▍| 6044/6090 [42:14<00:19,  2.38it/s]\n"
     ]
    },
    {
     "name": "stdout",
     "output_type": "stream",
     "text": [
      "Completion loss: 5590209.1953125\n",
      "Discriminator loss: 0.00763413312665157\n",
      "epoch: 26\n"
     ]
    },
    {
     "name": "stderr",
     "output_type": "stream",
     "text": [
      " 99%|█████████████████████████████████████████████████████████████████████████████▍| 6044/6090 [42:15<00:19,  2.38it/s]\n"
     ]
    },
    {
     "name": "stdout",
     "output_type": "stream",
     "text": [
      "Completion loss: 5529392.398101807\n",
      "Discriminator loss: 0.019831542784958377\n",
      "epoch: 27\n"
     ]
    },
    {
     "name": "stderr",
     "output_type": "stream",
     "text": [
      " 99%|█████████████████████████████████████████████████████████████████████████████▍| 6044/6090 [46:04<00:21,  2.19it/s]\n"
     ]
    },
    {
     "name": "stdout",
     "output_type": "stream",
     "text": [
      "Completion loss: 5476197.96295166\n",
      "Discriminator loss: 0.010273391204065771\n",
      "epoch: 28\n"
     ]
    },
    {
     "name": "stderr",
     "output_type": "stream",
     "text": [
      " 99%|█████████████████████████████████████████████████████████████████████████████▍| 6044/6090 [44:10<00:20,  2.28it/s]\n"
     ]
    },
    {
     "name": "stdout",
     "output_type": "stream",
     "text": [
      "Completion loss: 5423493.658813477\n",
      "Discriminator loss: 0.008370820144011387\n",
      "epoch: 29\n"
     ]
    },
    {
     "name": "stderr",
     "output_type": "stream",
     "text": [
      " 99%|█████████████████████████████████████████████████████████████████████████████▍| 6044/6090 [42:56<00:19,  2.35it/s]\n"
     ]
    },
    {
     "name": "stdout",
     "output_type": "stream",
     "text": [
      "Completion loss: 5373146.053375244\n",
      "Discriminator loss: 0.00929275632796386\n",
      "epoch: 30\n"
     ]
    },
    {
     "name": "stderr",
     "output_type": "stream",
     "text": [
      " 99%|█████████████████████████████████████████████████████████████████████████████▍| 6044/6090 [42:55<00:19,  2.35it/s]\n"
     ]
    },
    {
     "name": "stdout",
     "output_type": "stream",
     "text": [
      "Completion loss: 5326264.022216797\n",
      "Discriminator loss: 0.014319278556886783\n",
      "epoch: 31\n"
     ]
    },
    {
     "name": "stderr",
     "output_type": "stream",
     "text": [
      " 99%|█████████████████████████████████████████████████████████████████████████████▍| 6044/6090 [43:06<00:19,  2.34it/s]\n"
     ]
    },
    {
     "name": "stdout",
     "output_type": "stream",
     "text": [
      "Completion loss: 5275631.118804932\n",
      "Discriminator loss: 0.00452249886542282\n",
      "epoch: 32\n"
     ]
    },
    {
     "name": "stderr",
     "output_type": "stream",
     "text": [
      " 99%|█████████████████████████████████████████████████████████████████████████████▍| 6044/6090 [42:56<00:19,  2.35it/s]\n"
     ]
    },
    {
     "name": "stdout",
     "output_type": "stream",
     "text": [
      "Completion loss: 5229692.192810059\n",
      "Discriminator loss: 0.008795526783558074\n",
      "epoch: 33\n"
     ]
    },
    {
     "name": "stderr",
     "output_type": "stream",
     "text": [
      "  0%|                                                                                 | 4/6090 [00:01<44:32,  2.28it/s]\n"
     ]
    },
    {
     "ename": "KeyboardInterrupt",
     "evalue": "",
     "output_type": "error",
     "traceback": [
      "\u001b[0;31m---------------------------------------------------------------------------\u001b[0m",
      "\u001b[0;31mKeyboardInterrupt\u001b[0m                         Traceback (most recent call last)",
      "\u001b[0;32m<ipython-input-21-a77fbae23e6a>\u001b[0m in \u001b[0;36m<module>\u001b[0;34m()\u001b[0m\n\u001b[1;32m      2\u001b[0m \u001b[1;32mfrom\u001b[0m \u001b[0msrc\u001b[0m\u001b[1;33m.\u001b[0m\u001b[0mtrain\u001b[0m \u001b[1;32mimport\u001b[0m \u001b[0mtrain\u001b[0m\u001b[1;33m\u001b[0m\u001b[0m\n\u001b[1;32m      3\u001b[0m \u001b[0mtf\u001b[0m\u001b[1;33m.\u001b[0m\u001b[0mreset_default_graph\u001b[0m\u001b[1;33m(\u001b[0m\u001b[1;33m)\u001b[0m\u001b[1;33m\u001b[0m\u001b[0m\n\u001b[0;32m----> 4\u001b[0;31m \u001b[0mtrain\u001b[0m\u001b[1;33m(\u001b[0m\u001b[1;33m)\u001b[0m\u001b[1;33m\u001b[0m\u001b[0m\n\u001b[0m",
      "\u001b[0;32mC:\\Users\\User\\eye-inpainting\\src\\train.py\u001b[0m in \u001b[0;36mtrain\u001b[0;34m()\u001b[0m\n\u001b[1;32m    101\u001b[0m                 _, d_loss = sess.run(\n\u001b[1;32m    102\u001b[0m                     \u001b[1;33m[\u001b[0m\u001b[0md_train_op\u001b[0m\u001b[1;33m,\u001b[0m \u001b[0mmodel\u001b[0m\u001b[1;33m.\u001b[0m\u001b[0md_loss\u001b[0m\u001b[1;33m]\u001b[0m\u001b[1;33m,\u001b[0m\u001b[1;33m\u001b[0m\u001b[0m\n\u001b[0;32m--> 103\u001b[0;31m                     feed_dict={x: x_batch, mask: mask_batch, local_x: local_x_batch, global_completion: completion, local_completion: local_completion_batch, is_training: True})\n\u001b[0m\u001b[1;32m    104\u001b[0m                 \u001b[0md_loss_value\u001b[0m \u001b[1;33m+=\u001b[0m \u001b[0md_loss\u001b[0m\u001b[1;33m\u001b[0m\u001b[0m\n\u001b[1;32m    105\u001b[0m \u001b[1;33m\u001b[0m\u001b[0m\n",
      "\u001b[0;32mC:\\Users\\User\\Anaconda2\\envs\\py35\\lib\\site-packages\\tensorflow\\python\\client\\session.py\u001b[0m in \u001b[0;36mrun\u001b[0;34m(self, fetches, feed_dict, options, run_metadata)\u001b[0m\n\u001b[1;32m    765\u001b[0m     \u001b[1;32mtry\u001b[0m\u001b[1;33m:\u001b[0m\u001b[1;33m\u001b[0m\u001b[0m\n\u001b[1;32m    766\u001b[0m       result = self._run(None, fetches, feed_dict, options_ptr,\n\u001b[0;32m--> 767\u001b[0;31m                          run_metadata_ptr)\n\u001b[0m\u001b[1;32m    768\u001b[0m       \u001b[1;32mif\u001b[0m \u001b[0mrun_metadata\u001b[0m\u001b[1;33m:\u001b[0m\u001b[1;33m\u001b[0m\u001b[0m\n\u001b[1;32m    769\u001b[0m         \u001b[0mproto_data\u001b[0m \u001b[1;33m=\u001b[0m \u001b[0mtf_session\u001b[0m\u001b[1;33m.\u001b[0m\u001b[0mTF_GetBuffer\u001b[0m\u001b[1;33m(\u001b[0m\u001b[0mrun_metadata_ptr\u001b[0m\u001b[1;33m)\u001b[0m\u001b[1;33m\u001b[0m\u001b[0m\n",
      "\u001b[0;32mC:\\Users\\User\\Anaconda2\\envs\\py35\\lib\\site-packages\\tensorflow\\python\\client\\session.py\u001b[0m in \u001b[0;36m_run\u001b[0;34m(self, handle, fetches, feed_dict, options, run_metadata)\u001b[0m\n\u001b[1;32m    963\u001b[0m     \u001b[1;32mif\u001b[0m \u001b[0mfinal_fetches\u001b[0m \u001b[1;32mor\u001b[0m \u001b[0mfinal_targets\u001b[0m\u001b[1;33m:\u001b[0m\u001b[1;33m\u001b[0m\u001b[0m\n\u001b[1;32m    964\u001b[0m       results = self._do_run(handle, final_targets, final_fetches,\n\u001b[0;32m--> 965\u001b[0;31m                              feed_dict_string, options, run_metadata)\n\u001b[0m\u001b[1;32m    966\u001b[0m     \u001b[1;32melse\u001b[0m\u001b[1;33m:\u001b[0m\u001b[1;33m\u001b[0m\u001b[0m\n\u001b[1;32m    967\u001b[0m       \u001b[0mresults\u001b[0m \u001b[1;33m=\u001b[0m \u001b[1;33m[\u001b[0m\u001b[1;33m]\u001b[0m\u001b[1;33m\u001b[0m\u001b[0m\n",
      "\u001b[0;32mC:\\Users\\User\\Anaconda2\\envs\\py35\\lib\\site-packages\\tensorflow\\python\\client\\session.py\u001b[0m in \u001b[0;36m_do_run\u001b[0;34m(self, handle, target_list, fetch_list, feed_dict, options, run_metadata)\u001b[0m\n\u001b[1;32m   1013\u001b[0m     \u001b[1;32mif\u001b[0m \u001b[0mhandle\u001b[0m \u001b[1;32mis\u001b[0m \u001b[1;32mNone\u001b[0m\u001b[1;33m:\u001b[0m\u001b[1;33m\u001b[0m\u001b[0m\n\u001b[1;32m   1014\u001b[0m       return self._do_call(_run_fn, self._session, feed_dict, fetch_list,\n\u001b[0;32m-> 1015\u001b[0;31m                            target_list, options, run_metadata)\n\u001b[0m\u001b[1;32m   1016\u001b[0m     \u001b[1;32melse\u001b[0m\u001b[1;33m:\u001b[0m\u001b[1;33m\u001b[0m\u001b[0m\n\u001b[1;32m   1017\u001b[0m       return self._do_call(_prun_fn, self._session, handle, feed_dict,\n",
      "\u001b[0;32mC:\\Users\\User\\Anaconda2\\envs\\py35\\lib\\site-packages\\tensorflow\\python\\client\\session.py\u001b[0m in \u001b[0;36m_do_call\u001b[0;34m(self, fn, *args)\u001b[0m\n\u001b[1;32m   1020\u001b[0m   \u001b[1;32mdef\u001b[0m \u001b[0m_do_call\u001b[0m\u001b[1;33m(\u001b[0m\u001b[0mself\u001b[0m\u001b[1;33m,\u001b[0m \u001b[0mfn\u001b[0m\u001b[1;33m,\u001b[0m \u001b[1;33m*\u001b[0m\u001b[0margs\u001b[0m\u001b[1;33m)\u001b[0m\u001b[1;33m:\u001b[0m\u001b[1;33m\u001b[0m\u001b[0m\n\u001b[1;32m   1021\u001b[0m     \u001b[1;32mtry\u001b[0m\u001b[1;33m:\u001b[0m\u001b[1;33m\u001b[0m\u001b[0m\n\u001b[0;32m-> 1022\u001b[0;31m       \u001b[1;32mreturn\u001b[0m \u001b[0mfn\u001b[0m\u001b[1;33m(\u001b[0m\u001b[1;33m*\u001b[0m\u001b[0margs\u001b[0m\u001b[1;33m)\u001b[0m\u001b[1;33m\u001b[0m\u001b[0m\n\u001b[0m\u001b[1;32m   1023\u001b[0m     \u001b[1;32mexcept\u001b[0m \u001b[0merrors\u001b[0m\u001b[1;33m.\u001b[0m\u001b[0mOpError\u001b[0m \u001b[1;32mas\u001b[0m \u001b[0me\u001b[0m\u001b[1;33m:\u001b[0m\u001b[1;33m\u001b[0m\u001b[0m\n\u001b[1;32m   1024\u001b[0m       \u001b[0mmessage\u001b[0m \u001b[1;33m=\u001b[0m \u001b[0mcompat\u001b[0m\u001b[1;33m.\u001b[0m\u001b[0mas_text\u001b[0m\u001b[1;33m(\u001b[0m\u001b[0me\u001b[0m\u001b[1;33m.\u001b[0m\u001b[0mmessage\u001b[0m\u001b[1;33m)\u001b[0m\u001b[1;33m\u001b[0m\u001b[0m\n",
      "\u001b[0;32mC:\\Users\\User\\Anaconda2\\envs\\py35\\lib\\site-packages\\tensorflow\\python\\client\\session.py\u001b[0m in \u001b[0;36m_run_fn\u001b[0;34m(session, feed_dict, fetch_list, target_list, options, run_metadata)\u001b[0m\n\u001b[1;32m   1002\u001b[0m         return tf_session.TF_Run(session, options,\n\u001b[1;32m   1003\u001b[0m                                  \u001b[0mfeed_dict\u001b[0m\u001b[1;33m,\u001b[0m \u001b[0mfetch_list\u001b[0m\u001b[1;33m,\u001b[0m \u001b[0mtarget_list\u001b[0m\u001b[1;33m,\u001b[0m\u001b[1;33m\u001b[0m\u001b[0m\n\u001b[0;32m-> 1004\u001b[0;31m                                  status, run_metadata)\n\u001b[0m\u001b[1;32m   1005\u001b[0m \u001b[1;33m\u001b[0m\u001b[0m\n\u001b[1;32m   1006\u001b[0m     \u001b[1;32mdef\u001b[0m \u001b[0m_prun_fn\u001b[0m\u001b[1;33m(\u001b[0m\u001b[0msession\u001b[0m\u001b[1;33m,\u001b[0m \u001b[0mhandle\u001b[0m\u001b[1;33m,\u001b[0m \u001b[0mfeed_dict\u001b[0m\u001b[1;33m,\u001b[0m \u001b[0mfetch_list\u001b[0m\u001b[1;33m)\u001b[0m\u001b[1;33m:\u001b[0m\u001b[1;33m\u001b[0m\u001b[0m\n",
      "\u001b[0;31mKeyboardInterrupt\u001b[0m: "
     ]
    }
   ],
   "source": [
    "import tensorflow as tf\n",
    "from src.train import train\n",
    "tf.reset_default_graph()\n",
    "train()"
   ]
  },
  {
   "cell_type": "code",
   "execution_count": 31,
   "metadata": {
    "collapsed": false
   },
   "outputs": [
    {
     "name": "stderr",
     "output_type": "stream",
     "text": [
      "\n",
      "0it [00:00, ?it/s]\n",
      "1it [00:02,  2.94s/it]\n",
      "2it [00:05,  2.92s/it]\n",
      "3it [00:08,  2.72s/it]\n",
      "4it [00:11,  2.77s/it]\n",
      "5it [00:13,  2.80s/it]\n",
      "6it [00:16,  2.74s/it]\n",
      "7it [00:19,  2.76s/it]\n",
      "8it [00:22,  2.78s/it]\n",
      "9it [00:24,  2.73s/it]\n",
      "10it [00:27,  2.75s/it]\n",
      "11it [00:29,  2.72s/it]\n",
      "12it [00:32,  2.74s/it]\n",
      "13it [00:35,  2.75s/it]\n",
      "14it [00:38,  2.72s/it]\n",
      "15it [00:40,  2.73s/it]\n",
      "16it [00:43,  2.75s/it]\n",
      "17it [00:46,  2.72s/it]\n",
      "18it [00:49,  2.73s/it]\n",
      "19it [00:52,  2.74s/it]\n",
      "20it [00:54,  2.74s/it]\n",
      "21it [00:57,  2.75s/it]\n",
      "22it [01:00,  2.77s/it]\n",
      "23it [01:03,  2.76s/it]\n",
      "24it [01:06,  2.77s/it]\n",
      "25it [01:09,  2.78s/it]\n",
      "26it [01:12,  2.77s/it]\n",
      "27it [01:15,  2.79s/it]\n",
      "28it [01:18,  2.80s/it]\n",
      "29it [01:20,  2.79s/it]\n",
      "30it [01:23,  2.80s/it]\n",
      "31it [01:27,  2.81s/it]\n",
      "32it [01:29,  2.80s/it]\n",
      "33it [01:32,  2.80s/it]\n",
      "34it [01:35,  2.80s/it]\n",
      "35it [01:38,  2.80s/it]\n",
      "36it [01:41,  2.81s/it]\n",
      "37it [01:43,  2.80s/it]\n",
      "38it [01:46,  2.81s/it]\n",
      "39it [01:49,  2.81s/it]\n",
      "40it [01:52,  2.80s/it]\n",
      "41it [01:55,  2.81s/it]\n",
      "42it [01:58,  2.81s/it]\n",
      "43it [02:00,  2.81s/it]\n",
      "44it [02:03,  2.81s/it]\n",
      "45it [02:06,  2.82s/it]\n",
      "46it [02:09,  2.81s/it]\n",
      "47it [02:12,  2.82s/it]\n",
      "48it [02:15,  2.82s/it]\n",
      "49it [02:18,  2.82s/it]\n",
      "50it [02:21,  2.82s/it]\n",
      "51it [02:24,  2.83s/it]\n",
      "52it [02:26,  2.82s/it]\n",
      "53it [02:29,  2.83s/it]\n",
      "54it [02:33,  2.83s/it]\n",
      "55it [02:35,  2.83s/it]\n",
      "56it [02:38,  2.83s/it]\n",
      "57it [02:41,  2.84s/it]\n",
      "58it [02:44,  2.83s/it]\n",
      "59it [02:47,  2.83s/it]\n",
      "60it [02:49,  2.83s/it]\n",
      "61it [02:52,  2.83s/it]\n",
      "62it [02:55,  2.84s/it]\n",
      "63it [02:58,  2.83s/it]\n",
      "64it [03:01,  2.83s/it]\n",
      "65it [03:04,  2.84s/it]\n",
      "66it [03:06,  2.83s/it]\n",
      "67it [03:09,  2.83s/it]\n",
      "68it [03:12,  2.84s/it]\n",
      "69it [03:15,  2.83s/it]\n",
      "70it [03:18,  2.84s/it]\n",
      "71it [03:21,  2.84s/it]\n",
      "72it [03:24,  2.84s/it]\n",
      "73it [03:27,  2.84s/it]\n",
      "74it [03:30,  2.84s/it]\n",
      "75it [03:32,  2.84s/it]\n",
      "76it [03:35,  2.84s/it]\n",
      "77it [03:38,  2.84s/it]\n",
      "78it [03:41,  2.84s/it]\n",
      "79it [03:44,  2.84s/it]\n",
      "80it [03:47,  2.84s/it]\n",
      "81it [03:49,  2.84s/it]\n",
      "82it [03:52,  2.84s/it]\n",
      "83it [03:55,  2.83s/it]\n",
      "84it [03:58,  2.84s/it]\n",
      "85it [04:01,  2.84s/it]\n",
      "86it [04:03,  2.84s/it]\n",
      "87it [04:06,  2.84s/it]\n",
      "88it [04:09,  2.84s/it]\n",
      "89it [04:12,  2.84s/it]\n",
      "90it [04:15,  2.84s/it]\n",
      "91it [04:18,  2.84s/it]\n",
      "92it [04:21,  2.84s/it]\n",
      "93it [04:24,  2.84s/it]\n",
      "94it [04:27,  2.84s/it]\n",
      "95it [04:29,  2.84s/it]\n",
      "96it [04:32,  2.84s/it]\n",
      "97it [04:35,  2.84s/it]\n",
      "98it [04:38,  2.84s/it]\n",
      "99it [04:41,  2.84s/it]\n",
      "100it [04:44,  2.84s/it]\n",
      "101it [04:46,  2.84s/it]\n",
      "102it [04:49,  2.84s/it]\n",
      "103it [04:52,  2.84s/it]\n",
      "104it [04:55,  2.84s/it]\n",
      "105it [04:58,  2.85s/it]\n",
      "106it [05:02,  2.85s/it]\n",
      "107it [05:04,  2.85s/it]\n",
      "108it [05:08,  2.85s/it]\n",
      "109it [05:10,  2.85s/it]\n",
      "110it [05:14,  2.86s/it]\n",
      "111it [05:17,  2.86s/it]\n",
      "112it [05:19,  2.86s/it]\n",
      "113it [05:23,  2.86s/it]\n",
      "114it [05:26,  2.86s/it]\n",
      "115it [05:28,  2.86s/it]\n",
      "116it [05:31,  2.86s/it]\n",
      "117it [05:34,  2.86s/it]\n",
      "118it [05:37,  2.86s/it]\n",
      "119it [05:40,  2.86s/it]\n",
      "120it [05:43,  2.86s/it]\n",
      "121it [05:46,  2.86s/it]\n",
      "122it [05:49,  2.86s/it]\n",
      "123it [05:52,  2.87s/it]\n",
      "124it [05:55,  2.86s/it]\n",
      "125it [05:58,  2.87s/it]\n",
      "126it [06:01,  2.87s/it]\n",
      "127it [06:03,  2.87s/it]\n",
      "128it [06:07,  2.87s/it]\n",
      "129it [06:10,  2.87s/it]\n",
      "130it [06:12,  2.87s/it]\n",
      "131it [06:16,  2.88s/it]\n",
      "132it [06:19,  2.88s/it]\n",
      "133it [06:23,  2.88s/it]\n",
      "134it [06:26,  2.89s/it]\n",
      "135it [06:29,  2.88s/it]\n",
      "136it [06:32,  2.89s/it]\n",
      "137it [06:35,  2.89s/it]\n",
      "138it [06:38,  2.89s/it]\n",
      "139it [06:41,  2.89s/it]\n",
      "140it [06:45,  2.89s/it]\n",
      "141it [06:47,  2.89s/it]\n",
      "142it [06:51,  2.90s/it]\n",
      "143it [06:54,  2.90s/it]\n",
      "144it [06:57,  2.90s/it]\n",
      "145it [07:00,  2.90s/it]\n",
      "146it [07:03,  2.90s/it]\n",
      "147it [07:06,  2.90s/it]\n",
      "148it [07:09,  2.90s/it]\n",
      "149it [07:12,  2.90s/it]\n",
      "150it [07:15,  2.90s/it]\n",
      "151it [07:18,  2.90s/it]\n",
      "152it [07:22,  2.91s/it]\n",
      "153it [07:24,  2.91s/it]\n",
      "154it [07:27,  2.91s/it]\n",
      "155it [07:31,  2.91s/it]\n",
      "156it [07:33,  2.91s/it]\n",
      "157it [07:37,  2.91s/it]\n",
      "158it [07:39,  2.91s/it]\n",
      "159it [07:42,  2.91s/it]\n",
      "160it [07:45,  2.91s/it]\n",
      "161it [07:48,  2.91s/it]\n",
      "162it [07:52,  2.91s/it]\n",
      "163it [07:55,  2.92s/it]\n",
      "164it [07:58,  2.92s/it]\n",
      "165it [08:01,  2.92s/it]\n",
      "166it [08:05,  2.92s/it]\n",
      "167it [08:07,  2.92s/it]\n",
      "168it [08:11,  2.92s/it]\n",
      "169it [08:14,  2.93s/it]\n",
      "170it [08:17,  2.93s/it]\n",
      "171it [08:20,  2.93s/it]\n",
      "172it [08:24,  2.93s/it]\n",
      "173it [08:26,  2.93s/it]\n",
      "174it [08:30,  2.93s/it]\n",
      "175it [08:33,  2.93s/it]\n",
      "176it [08:36,  2.93s/it]\n",
      "177it [08:39,  2.94s/it]\n",
      "178it [08:43,  2.94s/it]\n",
      "179it [08:45,  2.94s/it]\n",
      "180it [08:49,  2.94s/it]\n",
      "181it [08:51,  2.94s/it]\n",
      "182it [08:55,  2.94s/it]\n",
      "183it [08:58,  2.94s/it]\n",
      "184it [09:01,  2.94s/it]\n",
      "185it [09:04,  2.94s/it]\n",
      "186it [09:07,  2.95s/it]\n",
      "187it [09:10,  2.94s/it]\n",
      "188it [09:13,  2.95s/it]\n",
      "189it [09:17,  2.95s/it]\n",
      "190it [09:19,  2.95s/it]\n",
      "191it [09:23,  2.95s/it]\n",
      "192it [09:26,  2.95s/it]\n",
      "193it [09:29,  2.95s/it]\n",
      "194it [09:32,  2.95s/it]\n",
      "195it [09:35,  2.95s/it]\n",
      "196it [09:38,  2.95s/it]\n",
      "197it [09:41,  2.95s/it]\n",
      "198it [09:45,  2.96s/it]\n",
      "199it [09:47,  2.95s/it]\n",
      "200it [09:51,  2.96s/it]\n",
      "201it [09:54,  2.96s/it]\n",
      "202it [09:57,  2.96s/it]\n",
      "203it [10:00,  2.96s/it]\n",
      "204it [10:04,  2.96s/it]\n",
      "205it [10:06,  2.96s/it]\n",
      "206it [10:10,  2.96s/it]\n",
      "207it [10:12,  2.96s/it]\n",
      "208it [10:16,  2.96s/it]\n",
      "209it [10:19,  2.96s/it]\n",
      "210it [10:22,  2.96s/it]\n",
      "211it [10:25,  2.96s/it]\n",
      "212it [10:28,  2.97s/it]\n",
      "213it [10:31,  2.97s/it]\n",
      "214it [10:34,  2.97s/it]\n",
      "215it [10:38,  2.97s/it]\n",
      "216it [10:40,  2.97s/it]\n",
      "217it [10:44,  2.97s/it]\n",
      "218it [10:47,  2.97s/it]\n",
      "219it [10:50,  2.97s/it]\n",
      "220it [10:53,  2.97s/it]\n",
      "221it [10:56,  2.97s/it]\n",
      "222it [10:59,  2.97s/it]\n",
      "223it [11:02,  2.97s/it]\n",
      "224it [11:06,  2.97s/it]\n",
      "225it [11:08,  2.97s/it]\n",
      "226it [11:12,  2.97s/it]\n",
      "227it [11:15,  2.98s/it]\n",
      "228it [11:18,  2.97s/it]\n",
      "229it [11:21,  2.98s/it]\n",
      "230it [11:24,  2.98s/it]\n",
      "231it [11:27,  2.98s/it]\n",
      "232it [11:31,  2.98s/it]\n",
      "233it [11:33,  2.98s/it]\n",
      "234it [11:36,  2.98s/it]\n",
      "235it [11:40,  2.98s/it]\n",
      "236it [11:42,  2.98s/it]\n",
      "237it [11:46,  2.98s/it]\n",
      "238it [11:49,  2.98s/it]\n",
      "239it [11:52,  2.98s/it]\n",
      "240it [11:55,  2.98s/it]\n",
      "241it [11:58,  2.98s/it]\n",
      "242it [12:01,  2.98s/it]\n",
      "243it [12:04,  2.98s/it]\n",
      "244it [12:07,  2.98s/it]\n",
      "245it [12:10,  2.98s/it]\n",
      "246it [12:13,  2.98s/it]\n",
      "247it [12:16,  2.98s/it]\n",
      "248it [12:19,  2.98s/it]\n",
      "249it [12:22,  2.98s/it]\n",
      "250it [12:26,  2.99s/it]\n",
      "251it [12:29,  2.98s/it]\n",
      "252it [12:32,  2.99s/it]\n",
      "253it [12:35,  2.99s/it]\n",
      "254it [12:38,  2.99s/it]\n",
      "255it [12:42,  2.99s/it]\n",
      "256it [12:44,  2.99s/it]\n",
      "257it [12:48,  2.99s/it]\n",
      "258it [12:51,  2.99s/it]\n",
      "259it [12:54,  2.99s/it]\n",
      "260it [12:57,  2.99s/it]\n",
      "261it [13:00,  2.99s/it]\n",
      "262it [13:03,  2.99s/it]\n",
      "263it [13:06,  2.99s/it]\n",
      "264it [13:09,  2.99s/it]\n",
      "265it [13:11,  2.99s/it]\n",
      "266it [13:14,  2.99s/it]\n",
      "267it [13:17,  2.99s/it]\n",
      "268it [13:20,  2.99s/it]\n",
      "269it [13:23,  2.99s/it]\n",
      "270it [13:26,  2.99s/it]\n",
      "271it [13:28,  2.98s/it]\n",
      "272it [13:31,  2.98s/it]\n",
      "273it [13:34,  2.98s/it]\n",
      "274it [13:37,  2.98s/it]\n",
      "275it [13:40,  2.98s/it]\n",
      "276it [13:43,  2.98s/it]\n",
      "277it [13:45,  2.98s/it]\n",
      "278it [13:48,  2.98s/it]\n",
      "279it [13:51,  2.98s/it]\n",
      "280it [13:54,  2.98s/it]\n",
      "281it [13:57,  2.98s/it]\n",
      "282it [13:59,  2.98s/it]\n",
      "283it [14:02,  2.98s/it]\n",
      "284it [14:05,  2.98s/it]\n",
      "285it [14:08,  2.98s/it]\n",
      "286it [14:11,  2.98s/it]\n",
      "287it [14:14,  2.98s/it]\n",
      "288it [14:16,  2.97s/it]\n",
      "289it [14:19,  2.98s/it]\n",
      "290it [14:22,  2.98s/it]\n",
      "291it [14:25,  2.97s/it]\n",
      "292it [14:28,  2.97s/it]\n",
      "293it [14:31,  2.97s/it]\n",
      "294it [14:33,  2.97s/it]\n",
      "295it [14:36,  2.97s/it]\n",
      "296it [14:39,  2.97s/it]\n",
      "297it [14:42,  2.97s/it]\n",
      "298it [14:45,  2.97s/it]\n",
      "299it [14:48,  2.97s/it]\n",
      "300it [14:50,  2.97s/it]\n",
      "301it [14:53,  2.97s/it]\n",
      "302it [14:56,  2.97s/it]\n",
      "303it [14:59,  2.97s/it]\n",
      "304it [15:02,  2.97s/it]\n",
      "305it [15:04,  2.97s/it]\n",
      "306it [15:07,  2.97s/it]\n",
      "307it [15:10,  2.97s/it]\n",
      "308it [15:13,  2.97s/it]\n",
      "309it [15:16,  2.97s/it]\n",
      "310it [15:19,  2.97s/it]\n",
      "311it [15:21,  2.96s/it]\n",
      "312it [15:25,  2.97s/it]\n",
      "313it [15:28,  2.97s/it]\n",
      "314it [15:30,  2.96s/it]\n",
      "315it [15:34,  2.97s/it]\n",
      "316it [15:37,  2.97s/it]\n",
      "317it [15:39,  2.96s/it]\n",
      "318it [15:42,  2.96s/it]\n",
      "319it [15:45,  2.96s/it]\n",
      "320it [15:48,  2.96s/it]\n",
      "321it [15:51,  2.96s/it]\n",
      "322it [15:54,  2.96s/it]\n",
      "323it [15:57,  2.96s/it]\n",
      "324it [16:00,  2.96s/it]\n",
      "325it [16:03,  2.96s/it]\n",
      "326it [16:05,  2.96s/it]\n",
      "327it [16:08,  2.96s/it]\n",
      "328it [16:11,  2.96s/it]\n",
      "329it [16:14,  2.96s/it]\n",
      "330it [16:17,  2.96s/it]\n",
      "331it [16:19,  2.96s/it]\n",
      "332it [16:23,  2.96s/it]\n",
      "333it [16:26,  2.96s/it]\n",
      "334it [16:28,  2.96s/it]\n",
      "335it [16:31,  2.96s/it]\n",
      "336it [16:34,  2.96s/it]\n",
      "337it [16:36,  2.96s/it]\n",
      "338it [16:39,  2.96s/it]\n",
      "339it [16:43,  2.96s/it]\n",
      "340it [16:45,  2.96s/it]\n",
      "341it [16:48,  2.96s/it]\n",
      "342it [16:52,  2.96s/it]\n",
      "343it [16:54,  2.96s/it]\n",
      "344it [16:58,  2.96s/it]\n",
      "345it [17:01,  2.96s/it]\n",
      "346it [17:04,  2.96s/it]\n",
      "347it [17:07,  2.96s/it]\n",
      "348it [17:10,  2.96s/it]\n",
      "349it [17:13,  2.96s/it]\n",
      "350it [17:16,  2.96s/it]\n",
      "351it [17:19,  2.96s/it]\n",
      "352it [17:21,  2.96s/it]\n",
      "353it [17:24,  2.96s/it]\n",
      "354it [17:27,  2.96s/it]\n",
      "355it [17:30,  2.96s/it]\n",
      "356it [17:33,  2.96s/it]\n",
      "357it [17:35,  2.96s/it]\n",
      "358it [17:38,  2.96s/it]\n",
      "359it [17:42,  2.96s/it]\n",
      "360it [17:44,  2.96s/it]\n",
      "361it [17:47,  2.96s/it]\n",
      "362it [17:50,  2.96s/it]\n",
      "363it [17:53,  2.96s/it]\n",
      "364it [17:56,  2.96s/it]\n",
      "365it [17:59,  2.96s/it]\n",
      "366it [18:01,  2.96s/it]\n",
      "367it [18:04,  2.96s/it]\n",
      "368it [18:07,  2.96s/it]\n",
      "369it [18:10,  2.95s/it]\n",
      "370it [18:13,  2.95s/it]\n",
      "371it [18:16,  2.95s/it]\n",
      "372it [18:18,  2.95s/it]\n",
      "373it [18:21,  2.95s/it]\n",
      "374it [18:24,  2.95s/it]\n",
      "375it [18:27,  2.95s/it]\n",
      "376it [18:30,  2.95s/it]\n",
      "377it [18:32,  2.95s/it]\n",
      "378it [18:35,  2.95s/it]\n",
      "379it [18:38,  2.95s/it]\n",
      "380it [18:41,  2.95s/it]\n",
      "381it [18:44,  2.95s/it]\n",
      "382it [18:47,  2.95s/it]\n",
      "383it [18:50,  2.95s/it]\n",
      "384it [18:53,  2.95s/it]\n",
      "385it [18:56,  2.95s/it]\n",
      "386it [18:58,  2.95s/it]\n",
      "387it [19:01,  2.95s/it]\n",
      "388it [19:04,  2.95s/it]\n",
      "389it [19:07,  2.95s/it]\n",
      "390it [19:10,  2.95s/it]\n",
      "391it [19:13,  2.95s/it]\n",
      "392it [19:15,  2.95s/it]\n",
      "393it [19:18,  2.95s/it]\n",
      "394it [19:21,  2.95s/it]\n",
      "395it [19:24,  2.95s/it]\n",
      "396it [19:27,  2.95s/it]\n",
      "397it [19:30,  2.95s/it]\n",
      "398it [19:32,  2.95s/it]\n",
      "399it [19:35,  2.95s/it]\n",
      "400it [19:38,  2.95s/it]\n",
      "401it [19:40,  2.95s/it]\n",
      "402it [19:44,  2.95s/it]\n",
      "403it [19:46,  2.94s/it]\n",
      "404it [19:49,  2.94s/it]\n",
      "405it [19:52,  2.94s/it]\n",
      "406it [19:55,  2.94s/it]\n",
      "407it [19:58,  2.94s/it]\n",
      "408it [20:01,  2.94s/it]\n",
      "409it [20:03,  2.94s/it]\n",
      "410it [20:06,  2.94s/it]\n",
      "411it [20:09,  2.94s/it]\n",
      "412it [20:12,  2.94s/it]\n",
      "413it [20:15,  2.94s/it]\n",
      "414it [20:18,  2.94s/it]\n",
      "415it [20:20,  2.94s/it]\n",
      "416it [20:23,  2.94s/it]\n",
      "417it [20:26,  2.94s/it]\n",
      "418it [20:29,  2.94s/it]\n",
      "419it [20:32,  2.94s/it]\n",
      "420it [20:35,  2.94s/it]\n",
      "421it [20:37,  2.94s/it]\n",
      "422it [20:40,  2.94s/it]\n",
      "423it [20:43,  2.94s/it]\n",
      "424it [20:46,  2.94s/it]\n",
      "425it [20:49,  2.94s/it]\n",
      "426it [20:51,  2.94s/it]\n",
      "427it [20:54,  2.94s/it]\n",
      "428it [20:58,  2.94s/it]\n",
      "429it [21:00,  2.94s/it]\n",
      "430it [21:03,  2.94s/it]\n",
      "431it [21:06,  2.94s/it]\n",
      "432it [21:09,  2.94s/it]\n",
      "433it [21:12,  2.94s/it]\n",
      "434it [21:15,  2.94s/it]\n",
      "435it [21:18,  2.94s/it]\n",
      "436it [21:21,  2.94s/it]\n",
      "437it [21:24,  2.94s/it]\n",
      "438it [21:26,  2.94s/it]\n",
      "439it [21:29,  2.94s/it]\n",
      "440it [21:32,  2.94s/it]\n",
      "441it [21:35,  2.94s/it]\n",
      "442it [21:38,  2.94s/it]\n",
      "443it [21:41,  2.94s/it]\n",
      "444it [21:44,  2.94s/it]\n",
      "445it [21:47,  2.94s/it]\n",
      "446it [21:50,  2.94s/it]\n",
      "447it [21:52,  2.94s/it]\n",
      "448it [21:55,  2.94s/it]\n",
      "449it [21:59,  2.94s/it]\n",
      "450it [22:01,  2.94s/it]\n",
      "451it [22:04,  2.94s/it]\n",
      "452it [22:07,  2.94s/it]\n",
      "453it [22:10,  2.94s/it]\n",
      "454it [22:13,  2.94s/it]\n",
      "455it [22:15,  2.94s/it]\n",
      "456it [22:18,  2.94s/it]\n",
      "457it [22:21,  2.94s/it]\n",
      "458it [22:24,  2.94s/it]\n",
      "459it [22:27,  2.94s/it]\n",
      "460it [22:30,  2.94s/it]\n",
      "461it [22:33,  2.94s/it]\n",
      "462it [22:36,  2.94s/it]\n",
      "463it [22:39,  2.94s/it]\n",
      "464it [22:41,  2.94s/it]\n",
      "465it [22:44,  2.94s/it]\n",
      "466it [22:47,  2.94s/it]\n",
      "467it [22:50,  2.93s/it]\n",
      "468it [22:53,  2.94s/it]\n",
      "469it [22:56,  2.94s/it]\n",
      "470it [22:59,  2.93s/it]\n",
      "471it [23:02,  2.94s/it]\n",
      "472it [23:05,  2.94s/it]\n",
      "473it [23:08,  2.93s/it]\n",
      "474it [23:11,  2.94s/it]\n",
      "475it [23:13,  2.93s/it]\n",
      "476it [23:16,  2.93s/it]\n",
      "477it [23:19,  2.93s/it]\n",
      "478it [23:22,  2.93s/it]\n",
      "479it [23:25,  2.93s/it]\n",
      "480it [23:28,  2.93s/it]\n",
      "481it [23:30,  2.93s/it]\n",
      "482it [23:34,  2.93s/it]\n",
      "483it [23:37,  2.93s/it]\n",
      "484it [23:39,  2.93s/it]\n",
      "485it [23:42,  2.93s/it]\n",
      "486it [23:45,  2.93s/it]\n",
      "487it [23:48,  2.93s/it]\n",
      "488it [23:51,  2.93s/it]\n",
      "489it [23:54,  2.93s/it]\n",
      "490it [23:57,  2.93s/it]\n",
      "491it [24:00,  2.93s/it]\n",
      "492it [24:03,  2.93s/it]\n",
      "493it [24:05,  2.93s/it]\n",
      "494it [24:08,  2.93s/it]\n",
      "495it [24:11,  2.93s/it]\n",
      "496it [24:14,  2.93s/it]\n",
      "497it [24:17,  2.93s/it]\n",
      "498it [24:20,  2.93s/it]\n",
      "499it [24:22,  2.93s/it]\n",
      "500it [24:25,  2.93s/it]\n",
      "501it [24:28,  2.93s/it]\n",
      "502it [24:31,  2.93s/it]\n",
      "503it [24:34,  2.93s/it]\n",
      "504it [24:36,  2.93s/it]\n",
      "505it [24:39,  2.93s/it]\n",
      "506it [24:42,  2.93s/it]\n",
      "507it [24:45,  2.93s/it]\n",
      "508it [24:48,  2.93s/it]\n",
      "509it [24:51,  2.93s/it]\n",
      "510it [24:53,  2.93s/it]\n",
      "511it [24:56,  2.93s/it]\n",
      "512it [24:59,  2.93s/it]\n",
      "513it [25:02,  2.93s/it]\n",
      "514it [25:04,  2.93s/it]\n",
      "515it [25:07,  2.93s/it]\n",
      "516it [25:10,  2.93s/it]\n",
      "517it [25:13,  2.93s/it]\n",
      "518it [25:16,  2.93s/it]\n",
      "519it [25:18,  2.93s/it]\n",
      "520it [25:21,  2.93s/it]\n",
      "521it [25:24,  2.93s/it]\n",
      "522it [25:27,  2.93s/it]\n",
      "523it [25:30,  2.93s/it]\n",
      "524it [25:32,  2.93s/it]\n",
      "525it [25:35,  2.93s/it]\n",
      "526it [25:38,  2.93s/it]\n",
      "527it [25:41,  2.92s/it]\n",
      "528it [25:44,  2.92s/it]\n",
      "529it [25:47,  2.92s/it]\n",
      "530it [25:49,  2.92s/it]\n",
      "531it [25:52,  2.92s/it]\n",
      "532it [25:55,  2.92s/it]\n",
      "533it [25:58,  2.92s/it]\n",
      "534it [26:01,  2.92s/it]\n",
      "535it [26:04,  2.92s/it]\n",
      "536it [26:06,  2.92s/it]\n",
      "537it [26:09,  2.92s/it]\n",
      "538it [26:12,  2.92s/it]\n",
      "539it [26:14,  2.92s/it]\n",
      "540it [26:18,  2.92s/it]\n",
      "541it [26:21,  2.92s/it]\n",
      "542it [26:23,  2.92s/it]\n",
      "543it [26:26,  2.92s/it]\n",
      "544it [26:29,  2.92s/it]\n",
      "545it [26:31,  2.92s/it]\n",
      "546it [26:34,  2.92s/it]\n",
      "547it [26:37,  2.92s/it]\n",
      "548it [26:40,  2.92s/it]\n",
      "549it [26:43,  2.92s/it]\n",
      "550it [26:45,  2.92s/it]\n",
      "551it [26:48,  2.92s/it]\n",
      "552it [26:51,  2.92s/it]\n",
      "553it [26:54,  2.92s/it]\n",
      "554it [26:57,  2.92s/it]\n",
      "555it [27:00,  2.92s/it]\n",
      "556it [27:02,  2.92s/it]\n",
      "557it [27:05,  2.92s/it]\n",
      "558it [27:08,  2.92s/it]\n",
      "559it [27:10,  2.92s/it]\n",
      "560it [27:13,  2.92s/it]\n",
      "561it [27:16,  2.92s/it]\n",
      "562it [27:19,  2.92s/it]\n",
      "563it [27:22,  2.92s/it]\n",
      "564it [27:25,  2.92s/it]\n",
      "565it [27:27,  2.92s/it]\n",
      "566it [27:30,  2.92s/it]\n",
      "567it [27:33,  2.92s/it]\n",
      "568it [27:36,  2.92s/it]\n",
      "569it [27:39,  2.92s/it]\n",
      "570it [27:42,  2.92s/it]\n",
      "571it [27:44,  2.92s/it]\n",
      "572it [27:47,  2.92s/it]\n",
      "573it [27:49,  2.91s/it]\n",
      "574it [27:52,  2.91s/it]\n",
      "575it [27:55,  2.91s/it]\n",
      "576it [27:58,  2.91s/it]\n",
      "577it [28:01,  2.91s/it]\n",
      "578it [28:04,  2.91s/it]\n",
      "579it [28:06,  2.91s/it]\n",
      "580it [28:09,  2.91s/it]\n",
      "581it [28:12,  2.91s/it]\n",
      "582it [28:15,  2.91s/it]\n",
      "583it [28:18,  2.91s/it]\n",
      "584it [28:21,  2.91s/it]\n",
      "585it [28:23,  2.91s/it]\n",
      "586it [28:26,  2.91s/it]\n",
      "587it [28:29,  2.91s/it]\n",
      "588it [28:32,  2.91s/it]\n",
      "589it [28:35,  2.91s/it]\n",
      "590it [28:38,  2.91s/it]\n",
      "591it [28:40,  2.91s/it]\n",
      "592it [28:43,  2.91s/it]\n",
      "593it [28:46,  2.91s/it]\n",
      "594it [28:48,  2.91s/it]\n",
      "595it [28:51,  2.91s/it]\n",
      "596it [28:54,  2.91s/it]\n",
      "597it [28:57,  2.91s/it]\n",
      "598it [29:00,  2.91s/it]\n",
      "599it [29:02,  2.91s/it]\n",
      "600it [29:05,  2.91s/it]\n",
      "601it [29:08,  2.91s/it]\n",
      "602it [29:11,  2.91s/it]\n",
      "603it [29:14,  2.91s/it]\n",
      "604it [29:17,  2.91s/it]\n",
      "605it [29:19,  2.91s/it]\n",
      "606it [29:22,  2.91s/it]\n",
      "607it [29:25,  2.91s/it]\n",
      "608it [29:27,  2.91s/it]\n",
      "609it [29:30,  2.91s/it]\n",
      "610it [29:33,  2.91s/it]\n",
      "611it [29:36,  2.91s/it]\n",
      "612it [29:39,  2.91s/it]\n",
      "613it [29:42,  2.91s/it]\n",
      "614it [29:44,  2.91s/it]\n",
      "615it [29:47,  2.91s/it]\n",
      "616it [29:50,  2.91s/it]\n",
      "617it [29:52,  2.91s/it]\n",
      "618it [29:56,  2.91s/it]\n",
      "619it [29:59,  2.91s/it]\n",
      "620it [30:01,  2.91s/it]\n",
      "621it [30:04,  2.91s/it]\n",
      "622it [30:07,  2.91s/it]\n",
      "623it [30:10,  2.91s/it]\n",
      "624it [30:13,  2.91s/it]\n",
      "625it [30:16,  2.91s/it]\n",
      "626it [30:19,  2.91s/it]\n",
      "627it [30:22,  2.91s/it]\n",
      "628it [30:24,  2.91s/it]\n",
      "629it [30:27,  2.91s/it]\n",
      "630it [30:30,  2.91s/it]\n",
      "631it [30:33,  2.91s/it]\n",
      "632it [30:36,  2.91s/it]\n",
      "633it [30:39,  2.91s/it]\n",
      "634it [30:41,  2.90s/it]\n",
      "635it [30:44,  2.90s/it]\n",
      "636it [30:47,  2.91s/it]\n",
      "637it [30:50,  2.90s/it]\n",
      "638it [30:53,  2.90s/it]\n",
      "639it [30:56,  2.90s/it]\n",
      "640it [30:58,  2.90s/it]\n",
      "641it [31:01,  2.90s/it]\n",
      "642it [31:05,  2.91s/it]\n",
      "643it [31:07,  2.90s/it]\n",
      "644it [31:10,  2.90s/it]\n",
      "645it [31:13,  2.91s/it]\n",
      "646it [31:16,  2.90s/it]\n",
      "647it [31:19,  2.91s/it]\n",
      "648it [31:22,  2.90s/it]\n",
      "649it [31:25,  2.91s/it]\n",
      "650it [31:28,  2.91s/it]\n",
      "651it [31:31,  2.91s/it]\n",
      "652it [31:34,  2.91s/it]\n",
      "653it [31:37,  2.91s/it]\n",
      "654it [31:39,  2.91s/it]\n",
      "655it [31:43,  2.91s/it]\n",
      "656it [31:46,  2.91s/it]\n",
      "657it [31:48,  2.91s/it]\n",
      "658it [31:52,  2.91s/it]\n",
      "659it [31:55,  2.91s/it]\n",
      "660it [31:58,  2.91s/it]\n",
      "661it [32:01,  2.91s/it]\n",
      "662it [32:04,  2.91s/it]\n",
      "663it [32:06,  2.91s/it]\n",
      "664it [32:09,  2.91s/it]\n",
      "665it [32:12,  2.91s/it]\n",
      "666it [32:15,  2.91s/it]\n",
      "667it [32:18,  2.91s/it]\n",
      "668it [32:21,  2.91s/it]\n",
      "669it [32:23,  2.91s/it]\n",
      "670it [32:26,  2.91s/it]\n",
      "671it [32:29,  2.90s/it]\n"
     ]
    }
   ],
   "source": [
    "from src.test import test\n",
    "tf.reset_default_graph()\n",
    "test()"
   ]
  },
  {
   "cell_type": "code",
   "execution_count": null,
   "metadata": {
    "collapsed": true
   },
   "outputs": [],
   "source": []
  }
 ],
 "metadata": {
  "kernelspec": {
   "display_name": "Python [default]",
   "language": "python",
   "name": "python3"
  },
  "language_info": {
   "codemirror_mode": {
    "name": "ipython",
    "version": 3
   },
   "file_extension": ".py",
   "mimetype": "text/x-python",
   "name": "python",
   "nbconvert_exporter": "python",
   "pygments_lexer": "ipython3",
   "version": "3.5.2"
  }
 },
 "nbformat": 4,
 "nbformat_minor": 1
}
